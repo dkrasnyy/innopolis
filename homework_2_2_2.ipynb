{
 "cells": [
  {
   "cell_type": "code",
   "execution_count": 157,
   "metadata": {},
   "outputs": [],
   "source": [
    "import numpy as np #импортируем numpy\n",
    "%matplotlib inline\n",
    "import matplotlib.pyplot as plt\n"
   ]
  },
  {
   "cell_type": "markdown",
   "metadata": {},
   "source": [
    "Датасет с помощью функции np.genfromtxt()"
   ]
  },
  {
   "cell_type": "code",
   "execution_count": 158,
   "metadata": {},
   "outputs": [
    {
     "data": {
      "text/plain": [
       "array([[5.1, 3.5, 1.4, 0.2, nan],\n",
       "       [4.9, 3. , 1.4, 0.2, nan],\n",
       "       [4.7, 3.2, 1.3, 0.2, nan],\n",
       "       [4.6, 3.1, 1.5, 0.2, nan],\n",
       "       [5. , 3.6, 1.4, 0.2, nan],\n",
       "       [5.4, 3.9, 1.7, 0.4, nan],\n",
       "       [4.6, 3.4, 1.4, 0.3, nan],\n",
       "       [5. , 3.4, 1.5, 0.2, nan],\n",
       "       [4.4, 2.9, 1.4, 0.2, nan],\n",
       "       [4.9, 3.1, 1.5, 0.1, nan],\n",
       "       [5.4, 3.7, 1.5, 0.2, nan],\n",
       "       [4.8, 3.4, 1.6, 0.2, nan],\n",
       "       [4.8, 3. , 1.4, 0.1, nan],\n",
       "       [4.3, 3. , 1.1, 0.1, nan],\n",
       "       [5.8, 4. , 1.2, 0.2, nan],\n",
       "       [5.7, 4.4, 1.5, 0.4, nan],\n",
       "       [5.4, 3.9, 1.3, 0.4, nan],\n",
       "       [5.1, 3.5, 1.4, 0.3, nan],\n",
       "       [5.7, 3.8, 1.7, 0.3, nan],\n",
       "       [5.1, 3.8, 1.5, 0.3, nan],\n",
       "       [5.4, 3.4, 1.7, 0.2, nan],\n",
       "       [5.1, 3.7, 1.5, 0.4, nan],\n",
       "       [4.6, 3.6, 1. , 0.2, nan],\n",
       "       [5.1, 3.3, 1.7, 0.5, nan],\n",
       "       [4.8, 3.4, 1.9, 0.2, nan],\n",
       "       [5. , 3. , 1.6, 0.2, nan],\n",
       "       [5. , 3.4, 1.6, 0.4, nan],\n",
       "       [5.2, 3.5, 1.5, 0.2, nan],\n",
       "       [5.2, 3.4, 1.4, 0.2, nan],\n",
       "       [4.7, 3.2, 1.6, 0.2, nan],\n",
       "       [4.8, 3.1, 1.6, 0.2, nan],\n",
       "       [5.4, 3.4, 1.5, 0.4, nan],\n",
       "       [5.2, 4.1, 1.5, 0.1, nan],\n",
       "       [5.5, 4.2, 1.4, 0.2, nan],\n",
       "       [4.9, 3.1, 1.5, 0.1, nan],\n",
       "       [5. , 3.2, 1.2, 0.2, nan],\n",
       "       [5.5, 3.5, 1.3, 0.2, nan],\n",
       "       [4.9, 3.1, 1.5, 0.1, nan],\n",
       "       [4.4, 3. , 1.3, 0.2, nan],\n",
       "       [5.1, 3.4, 1.5, 0.2, nan],\n",
       "       [5. , 3.5, 1.3, 0.3, nan],\n",
       "       [4.5, 2.3, 1.3, 0.3, nan],\n",
       "       [4.4, 3.2, 1.3, 0.2, nan],\n",
       "       [5. , 3.5, 1.6, 0.6, nan],\n",
       "       [5.1, 3.8, 1.9, 0.4, nan],\n",
       "       [4.8, 3. , 1.4, 0.3, nan],\n",
       "       [5.1, 3.8, 1.6, 0.2, nan],\n",
       "       [4.6, 3.2, 1.4, 0.2, nan],\n",
       "       [5.3, 3.7, 1.5, 0.2, nan],\n",
       "       [5. , 3.3, 1.4, 0.2, nan],\n",
       "       [7. , 3.2, 4.7, 1.4, nan],\n",
       "       [6.4, 3.2, 4.5, 1.5, nan],\n",
       "       [6.9, 3.1, 4.9, 1.5, nan],\n",
       "       [5.5, 2.3, 4. , 1.3, nan],\n",
       "       [6.5, 2.8, 4.6, 1.5, nan],\n",
       "       [5.7, 2.8, 4.5, 1.3, nan],\n",
       "       [6.3, 3.3, 4.7, 1.6, nan],\n",
       "       [4.9, 2.4, 3.3, 1. , nan],\n",
       "       [6.6, 2.9, 4.6, 1.3, nan],\n",
       "       [5.2, 2.7, 3.9, 1.4, nan],\n",
       "       [5. , 2. , 3.5, 1. , nan],\n",
       "       [5.9, 3. , 4.2, 1.5, nan],\n",
       "       [6. , 2.2, 4. , 1. , nan],\n",
       "       [6.1, 2.9, 4.7, 1.4, nan],\n",
       "       [5.6, 2.9, 3.6, 1.3, nan],\n",
       "       [6.7, 3.1, 4.4, 1.4, nan],\n",
       "       [5.6, 3. , 4.5, 1.5, nan],\n",
       "       [5.8, 2.7, 4.1, 1. , nan],\n",
       "       [6.2, 2.2, 4.5, 1.5, nan],\n",
       "       [5.6, 2.5, 3.9, 1.1, nan],\n",
       "       [5.9, 3.2, 4.8, 1.8, nan],\n",
       "       [6.1, 2.8, 4. , 1.3, nan],\n",
       "       [6.3, 2.5, 4.9, 1.5, nan],\n",
       "       [6.1, 2.8, 4.7, 1.2, nan],\n",
       "       [6.4, 2.9, 4.3, 1.3, nan],\n",
       "       [6.6, 3. , 4.4, 1.4, nan],\n",
       "       [6.8, 2.8, 4.8, 1.4, nan],\n",
       "       [6.7, 3. , 5. , 1.7, nan],\n",
       "       [6. , 2.9, 4.5, 1.5, nan],\n",
       "       [5.7, 2.6, 3.5, 1. , nan],\n",
       "       [5.5, 2.4, 3.8, 1.1, nan],\n",
       "       [5.5, 2.4, 3.7, 1. , nan],\n",
       "       [5.8, 2.7, 3.9, 1.2, nan],\n",
       "       [6. , 2.7, 5.1, 1.6, nan],\n",
       "       [5.4, 3. , 4.5, 1.5, nan],\n",
       "       [6. , 3.4, 4.5, 1.6, nan],\n",
       "       [6.7, 3.1, 4.7, 1.5, nan],\n",
       "       [6.3, 2.3, 4.4, 1.3, nan],\n",
       "       [5.6, 3. , 4.1, 1.3, nan],\n",
       "       [5.5, 2.5, 4. , 1.3, nan],\n",
       "       [5.5, 2.6, 4.4, 1.2, nan],\n",
       "       [6.1, 3. , 4.6, 1.4, nan],\n",
       "       [5.8, 2.6, 4. , 1.2, nan],\n",
       "       [5. , 2.3, 3.3, 1. , nan],\n",
       "       [5.6, 2.7, 4.2, 1.3, nan],\n",
       "       [5.7, 3. , 4.2, 1.2, nan],\n",
       "       [5.7, 2.9, 4.2, 1.3, nan],\n",
       "       [6.2, 2.9, 4.3, 1.3, nan],\n",
       "       [5.1, 2.5, 3. , 1.1, nan],\n",
       "       [5.7, 2.8, 4.1, 1.3, nan],\n",
       "       [6.3, 3.3, 6. , 2.5, nan],\n",
       "       [5.8, 2.7, 5.1, 1.9, nan],\n",
       "       [7.1, 3. , 5.9, 2.1, nan],\n",
       "       [6.3, 2.9, 5.6, 1.8, nan],\n",
       "       [6.5, 3. , 5.8, 2.2, nan],\n",
       "       [7.6, 3. , 6.6, 2.1, nan],\n",
       "       [4.9, 2.5, 4.5, 1.7, nan],\n",
       "       [7.3, 2.9, 6.3, 1.8, nan],\n",
       "       [6.7, 2.5, 5.8, 1.8, nan],\n",
       "       [7.2, 3.6, 6.1, 2.5, nan],\n",
       "       [6.5, 3.2, 5.1, 2. , nan],\n",
       "       [6.4, 2.7, 5.3, 1.9, nan],\n",
       "       [6.8, 3. , 5.5, 2.1, nan],\n",
       "       [5.7, 2.5, 5. , 2. , nan],\n",
       "       [5.8, 2.8, 5.1, 2.4, nan],\n",
       "       [6.4, 3.2, 5.3, 2.3, nan],\n",
       "       [6.5, 3. , 5.5, 1.8, nan],\n",
       "       [7.7, 3.8, 6.7, 2.2, nan],\n",
       "       [7.7, 2.6, 6.9, 2.3, nan],\n",
       "       [6. , 2.2, 5. , 1.5, nan],\n",
       "       [6.9, 3.2, 5.7, 2.3, nan],\n",
       "       [5.6, 2.8, 4.9, 2. , nan],\n",
       "       [7.7, 2.8, 6.7, 2. , nan],\n",
       "       [6.3, 2.7, 4.9, 1.8, nan],\n",
       "       [6.7, 3.3, 5.7, 2.1, nan],\n",
       "       [7.2, 3.2, 6. , 1.8, nan],\n",
       "       [6.2, 2.8, 4.8, 1.8, nan],\n",
       "       [6.1, 3. , 4.9, 1.8, nan],\n",
       "       [6.4, 2.8, 5.6, 2.1, nan],\n",
       "       [7.2, 3. , 5.8, 1.6, nan],\n",
       "       [7.4, 2.8, 6.1, 1.9, nan],\n",
       "       [7.9, 3.8, 6.4, 2. , nan],\n",
       "       [6.4, 2.8, 5.6, 2.2, nan],\n",
       "       [6.3, 2.8, 5.1, 1.5, nan],\n",
       "       [6.1, 2.6, 5.6, 1.4, nan],\n",
       "       [7.7, 3. , 6.1, 2.3, nan],\n",
       "       [6.3, 3.4, 5.6, 2.4, nan],\n",
       "       [6.4, 3.1, 5.5, 1.8, nan],\n",
       "       [6. , 3. , 4.8, 1.8, nan],\n",
       "       [6.9, 3.1, 5.4, 2.1, nan],\n",
       "       [6.7, 3.1, 5.6, 2.4, nan],\n",
       "       [6.9, 3.1, 5.1, 2.3, nan],\n",
       "       [5.8, 2.7, 5.1, 1.9, nan],\n",
       "       [6.8, 3.2, 5.9, 2.3, nan],\n",
       "       [6.7, 3.3, 5.7, 2.5, nan],\n",
       "       [6.7, 3. , 5.2, 2.3, nan],\n",
       "       [6.3, 2.5, 5. , 1.9, nan],\n",
       "       [6.5, 3. , 5.2, 2. , nan],\n",
       "       [6.2, 3.4, 5.4, 2.3, nan],\n",
       "       [5.9, 3. , 5.1, 1.8, nan]])"
      ]
     },
     "execution_count": 158,
     "metadata": {},
     "output_type": "execute_result"
    }
   ],
   "source": [
    "url = 'https://archive.ics.uci.edu/ml/machine-learning-databases/iris/iris.data'#создаем переменную с адресом данных\n",
    "species = np.genfromtxt(url, delimiter=',') #считываем данные \n",
    "species"
   ]
  },
  {
   "cell_type": "markdown",
   "metadata": {},
   "source": [
    "Простейшие статистики:"
   ]
  },
  {
   "cell_type": "code",
   "execution_count": 159,
   "metadata": {},
   "outputs": [
    {
     "name": "stdout",
     "output_type": "stream",
     "text": [
      "0 \n",
      "0.25-percentile: 5.1\n",
      "0.75-percentile: 6.4\n",
      "mean: 5.843333333333334\n",
      "median: 5.8\n",
      "std: 0.8253012917851409\n",
      "min: 4.3\n",
      "max: 7.9 \n",
      "\n",
      "1 \n",
      "0.25-percentile: 2.8\n",
      "0.75-percentile: 3.3\n",
      "mean: 3.0540000000000003\n",
      "median: 3.0\n",
      "std: 0.4321465800705435\n",
      "min: 2.0\n",
      "max: 4.4 \n",
      "\n",
      "2 \n",
      "0.25-percentile: 1.6\n",
      "0.75-percentile: 5.1\n",
      "mean: 3.758666666666666\n",
      "median: 4.35\n",
      "std: 1.7585291834055212\n",
      "min: 1.0\n",
      "max: 6.9 \n",
      "\n",
      "3 \n",
      "0.25-percentile: 0.3\n",
      "0.75-percentile: 1.8\n",
      "mean: 1.1986666666666668\n",
      "median: 1.3\n",
      "std: 0.7606126185881716\n",
      "min: 0.1\n",
      "max: 2.5 \n",
      "\n"
     ]
    }
   ],
   "source": [
    "for i in range(4): #выводим в цикле (для каждого столбца датасета) простейшие статистики. numpy, так как быстрее\n",
    "    print(i, \"\")\n",
    "    print(\"0.25-percentile:\",np.percentile(species[:,i], 25))\n",
    "    print(\"0.75-percentile:\",np.percentile(species[:,i], 75))\n",
    "    print(\"mean:\",np.mean(species[:,i]))\n",
    "    print(\"median:\",np.median(species[:,i]))\n",
    "    print(\"std:\",np.std(species[:,i]))\n",
    "    print(\"min:\",np.min(species[:,i]))\n",
    "    print(\"max:\",np.max(species[:,i]),\"\\n\")"
   ]
  },
  {
   "cell_type": "markdown",
   "metadata": {},
   "source": [
    " Гистограмма для каждого из числовых атрибутов в датасете"
   ]
  },
  {
   "cell_type": "code",
   "execution_count": 160,
   "metadata": {},
   "outputs": [
    {
     "name": "stdout",
     "output_type": "stream",
     "text": [
      "0 :\n"
     ]
    },
    {
     "data": {
      "image/png": "[encoded data removed]",
      "text/plain": [
       "<Figure size 432x288 with 1 Axes>"
      ]
     },
     "metadata": {
      "needs_background": "light"
     },
     "output_type": "display_data"
    },
    {
     "name": "stdout",
     "output_type": "stream",
     "text": [
      "1 :\n"
     ]
    },
    {
     "data": {
      "image/png": "[encoded data removed]",
      "text/plain": [
       "<Figure size 432x288 with 1 Axes>"
      ]
     },
     "metadata": {
      "needs_background": "light"
     },
     "output_type": "display_data"
    },
    {
     "name": "stdout",
     "output_type": "stream",
     "text": [
      "2 :\n"
     ]
    },
    {
     "data": {
      "image/png": "[encoded data removed]",
      "text/plain": [
       "<Figure size 432x288 with 1 Axes>"
      ]
     },
     "metadata": {
      "needs_background": "light"
     },
     "output_type": "display_data"
    },
    {
     "name": "stdout",
     "output_type": "stream",
     "text": [
      "3 :\n"
     ]
    },
    {
     "data": {
      "image/png": "[encoded data removed]",
      "text/plain": [
       "<Figure size 432x288 with 1 Axes>"
      ]
     },
     "metadata": {
      "needs_background": "light"
     },
     "output_type": "display_data"
    }
   ],
   "source": [
    "for i in range(4): \n",
    "    print(i, \":\")\n",
    "    plt.hist(species[:,i])\n",
    "    plt.show()"
   ]
  },
  {
   "cell_type": "markdown",
   "metadata": {},
   "source": [
    "2 вариант\n",
    "#Сгруппируем датасет по категории (последний столбец датасета) и повторим вычисления"
   ]
  },
  {
   "cell_type": "code",
   "execution_count": 161,
   "metadata": {
    "scrolled": false
   },
   "outputs": [],
   "source": [
    "url = 'https://archive.ics.uci.edu/ml/machine-learning-databases/iris/iris.data'\n",
    "species_2 = np.genfromtxt(url, dtype=None, names = ['col_1','col_2','col_3','col_4','col_5'], delimiter=',',encoding='UTF-8')\n",
    "#species"
   ]
  },
  {
   "cell_type": "code",
   "execution_count": 162,
   "metadata": {},
   "outputs": [
    {
     "name": "stdout",
     "output_type": "stream",
     "text": [
      "col_1 \n",
      "0.25-percentile: 5.1\n",
      "0.75-percentile: 6.4\n",
      "mean: 5.843333333333334\n",
      "median: 5.8\n",
      "std: 0.8253012917851409\n",
      "min: 4.3\n",
      "max: 7.9 \n",
      "\n",
      "col_2 \n",
      "0.25-percentile: 2.8\n",
      "0.75-percentile: 3.3\n",
      "mean: 3.0540000000000003\n",
      "median: 3.0\n",
      "std: 0.4321465800705435\n",
      "min: 2.0\n",
      "max: 4.4 \n",
      "\n",
      "col_3 \n",
      "0.25-percentile: 1.6\n",
      "0.75-percentile: 5.1\n",
      "mean: 3.758666666666666\n",
      "median: 4.35\n",
      "std: 1.7585291834055212\n",
      "min: 1.0\n",
      "max: 6.9 \n",
      "\n",
      "col_4 \n",
      "0.25-percentile: 0.3\n",
      "0.75-percentile: 1.8\n",
      "mean: 1.1986666666666668\n",
      "median: 1.3\n",
      "std: 0.7606126185881716\n",
      "min: 0.1\n",
      "max: 2.5 \n",
      "\n"
     ]
    }
   ],
   "source": [
    "for i in ['col_1','col_2','col_3','col_4']:\n",
    "    print(i, \"\")\n",
    "    print(\"0.25-percentile:\",np.percentile(species_2[i], 25))\n",
    "    print(\"0.75-percentile:\",np.percentile(species_2[i], 75))\n",
    "    print(\"mean:\",np.mean(species_2[i]))\n",
    "    print(\"median:\",np.median(species_2[i]))\n",
    "    print(\"std:\",np.std(species_2[i]))\n",
    "    print(\"min:\",np.min(species_2[i]))\n",
    "    print(\"max:\",np.max(species_2[i]),\"\\n\")"
   ]
  },
  {
   "cell_type": "code",
   "execution_count": 163,
   "metadata": {},
   "outputs": [
    {
     "name": "stdout",
     "output_type": "stream",
     "text": [
      "col_1 :\n"
     ]
    },
    {
     "data": {
      "image/png": "[encoded data removed]",
      "text/plain": [
       "<Figure size 432x288 with 1 Axes>"
      ]
     },
     "metadata": {
      "needs_background": "light"
     },
     "output_type": "display_data"
    },
    {
     "name": "stdout",
     "output_type": "stream",
     "text": [
      "col_2 :\n"
     ]
    },
    {
     "data": {
      "image/png": "[encoded data removed]",
      "text/plain": [
       "<Figure size 432x288 with 1 Axes>"
      ]
     },
     "metadata": {
      "needs_background": "light"
     },
     "output_type": "display_data"
    },
    {
     "name": "stdout",
     "output_type": "stream",
     "text": [
      "col_3 :\n"
     ]
    },
    {
     "data": {
      "image/png": "[encoded data removed]",
      "text/plain": [
       "<Figure size 432x288 with 1 Axes>"
      ]
     },
     "metadata": {
      "needs_background": "light"
     },
     "output_type": "display_data"
    },
    {
     "name": "stdout",
     "output_type": "stream",
     "text": [
      "col_4 :\n"
     ]
    },
    {
     "data": {
      "image/png": "[encoded data removed]",
      "text/plain": [
       "<Figure size 432x288 with 1 Axes>"
      ]
     },
     "metadata": {
      "needs_background": "light"
     },
     "output_type": "display_data"
    }
   ],
   "source": [
    "for i in ['col_1','col_2','col_3','col_4']:\n",
    "    print(i, \":\")\n",
    "    plt.hist(species_2[i])\n",
    "    plt.show()"
   ]
  },
  {
   "cell_type": "markdown",
   "metadata": {},
   "source": [
    "Группировка датасета по категории (последний столбец датасета)"
   ]
  },
  {
   "cell_type": "code",
   "execution_count": 165,
   "metadata": {},
   "outputs": [],
   "source": [
    "# url = 'https://archive.ics.uci.edu/ml/machine-learning-databases/iris/iris.data'\n",
    "# species = np.genfromtxt(url, delimiter=',', dtype='str', usecols=4)"
   ]
  },
  {
   "cell_type": "code",
   "execution_count": 166,
   "metadata": {},
   "outputs": [
    {
     "name": "stdout",
     "output_type": "stream",
     "text": [
      "['Iris-setosa' 'Iris-versicolor' 'Iris-virginica']\n"
     ]
    }
   ],
   "source": [
    "uniqs = np.unique(species_2['col_5'])\n",
    "print(uniqs)\n",
    "species_cat = species"
   ]
  },
  {
   "cell_type": "code",
   "execution_count": 167,
   "metadata": {},
   "outputs": [
    {
     "name": "stdout",
     "output_type": "stream",
     "text": [
      "[0, 0, 0, 0, 0, 0, 0, 0, 0, 0, 0, 0, 0, 0, 0, 0, 0, 0, 0, 0, 0, 0, 0, 0, 0, 0, 0, 0, 0, 0, 0, 0, 0, 0, 0, 0, 0, 0, 0, 0, 0, 0, 0, 0, 0, 0, 0, 0, 0, 0, 1, 1, 1, 1, 1, 1, 1, 1, 1, 1, 1, 1, 1, 1, 1, 1, 1, 1, 1, 1, 1, 1, 1, 1, 1, 1, 1, 1, 1, 1, 1, 1, 1, 1, 1, 1, 1, 1, 1, 1, 1, 1, 1, 1, 1, 1, 1, 1, 1, 1, 2, 2, 2, 2, 2, 2, 2, 2, 2, 2, 2, 2, 2, 2, 2, 2, 2, 2, 2, 2, 2, 2, 2, 2, 2, 2, 2, 2, 2, 2, 2, 2, 2, 2, 2, 2, 2, 2, 2, 2, 2, 2, 2, 2, 2, 2, 2, 2, 2, 2]\n"
     ]
    }
   ],
   "source": [
    "out = []\n",
    "for val in uniqs:\n",
    "    for s in species_cat[species_cat == val]:\n",
    "        group_id = np.argwhere(uniqs == s).tolist()[0][0]\n",
    "        out.append(group_id)\n",
    "print(out)"
   ]
  },
  {
   "cell_type": "code",
   "execution_count": 169,
   "metadata": {},
   "outputs": [],
   "source": [
    "d = np.genfromtxt(url, delimiter=',', dtype='str')"
   ]
  },
  {
   "cell_type": "code",
   "execution_count": 170,
   "metadata": {},
   "outputs": [],
   "source": [
    "attr1 = np.array(out)\n",
    "attr1 = attr1.reshape((150,1))"
   ]
  },
  {
   "cell_type": "code",
   "execution_count": 175,
   "metadata": {},
   "outputs": [
    {
     "data": {
      "text/plain": [
       "array([['5.1', '3.5', '1.4', '0.2', 'Iris-setosa', '0'],\n",
       "       ['4.9', '3.0', '1.4', '0.2', 'Iris-setosa', '0'],\n",
       "       ['4.7', '3.2', '1.3', '0.2', 'Iris-setosa', '0'],\n",
       "       ['4.6', '3.1', '1.5', '0.2', 'Iris-setosa', '0'],\n",
       "       ['5.0', '3.6', '1.4', '0.2', 'Iris-setosa', '0'],\n",
       "       ['5.4', '3.9', '1.7', '0.4', 'Iris-setosa', '0'],\n",
       "       ['4.6', '3.4', '1.4', '0.3', 'Iris-setosa', '0'],\n",
       "       ['5.0', '3.4', '1.5', '0.2', 'Iris-setosa', '0'],\n",
       "       ['4.4', '2.9', '1.4', '0.2', 'Iris-setosa', '0'],\n",
       "       ['4.9', '3.1', '1.5', '0.1', 'Iris-setosa', '0'],\n",
       "       ['5.4', '3.7', '1.5', '0.2', 'Iris-setosa', '0'],\n",
       "       ['4.8', '3.4', '1.6', '0.2', 'Iris-setosa', '0'],\n",
       "       ['4.8', '3.0', '1.4', '0.1', 'Iris-setosa', '0'],\n",
       "       ['4.3', '3.0', '1.1', '0.1', 'Iris-setosa', '0'],\n",
       "       ['5.8', '4.0', '1.2', '0.2', 'Iris-setosa', '0'],\n",
       "       ['5.7', '4.4', '1.5', '0.4', 'Iris-setosa', '0'],\n",
       "       ['5.4', '3.9', '1.3', '0.4', 'Iris-setosa', '0'],\n",
       "       ['5.1', '3.5', '1.4', '0.3', 'Iris-setosa', '0'],\n",
       "       ['5.7', '3.8', '1.7', '0.3', 'Iris-setosa', '0'],\n",
       "       ['5.1', '3.8', '1.5', '0.3', 'Iris-setosa', '0'],\n",
       "       ['5.4', '3.4', '1.7', '0.2', 'Iris-setosa', '0'],\n",
       "       ['5.1', '3.7', '1.5', '0.4', 'Iris-setosa', '0'],\n",
       "       ['4.6', '3.6', '1.0', '0.2', 'Iris-setosa', '0'],\n",
       "       ['5.1', '3.3', '1.7', '0.5', 'Iris-setosa', '0'],\n",
       "       ['4.8', '3.4', '1.9', '0.2', 'Iris-setosa', '0'],\n",
       "       ['5.0', '3.0', '1.6', '0.2', 'Iris-setosa', '0'],\n",
       "       ['5.0', '3.4', '1.6', '0.4', 'Iris-setosa', '0'],\n",
       "       ['5.2', '3.5', '1.5', '0.2', 'Iris-setosa', '0'],\n",
       "       ['5.2', '3.4', '1.4', '0.2', 'Iris-setosa', '0'],\n",
       "       ['4.7', '3.2', '1.6', '0.2', 'Iris-setosa', '0'],\n",
       "       ['4.8', '3.1', '1.6', '0.2', 'Iris-setosa', '0'],\n",
       "       ['5.4', '3.4', '1.5', '0.4', 'Iris-setosa', '0'],\n",
       "       ['5.2', '4.1', '1.5', '0.1', 'Iris-setosa', '0'],\n",
       "       ['5.5', '4.2', '1.4', '0.2', 'Iris-setosa', '0'],\n",
       "       ['4.9', '3.1', '1.5', '0.1', 'Iris-setosa', '0'],\n",
       "       ['5.0', '3.2', '1.2', '0.2', 'Iris-setosa', '0'],\n",
       "       ['5.5', '3.5', '1.3', '0.2', 'Iris-setosa', '0'],\n",
       "       ['4.9', '3.1', '1.5', '0.1', 'Iris-setosa', '0'],\n",
       "       ['4.4', '3.0', '1.3', '0.2', 'Iris-setosa', '0'],\n",
       "       ['5.1', '3.4', '1.5', '0.2', 'Iris-setosa', '0'],\n",
       "       ['5.0', '3.5', '1.3', '0.3', 'Iris-setosa', '0'],\n",
       "       ['4.5', '2.3', '1.3', '0.3', 'Iris-setosa', '0'],\n",
       "       ['4.4', '3.2', '1.3', '0.2', 'Iris-setosa', '0'],\n",
       "       ['5.0', '3.5', '1.6', '0.6', 'Iris-setosa', '0'],\n",
       "       ['5.1', '3.8', '1.9', '0.4', 'Iris-setosa', '0'],\n",
       "       ['4.8', '3.0', '1.4', '0.3', 'Iris-setosa', '0'],\n",
       "       ['5.1', '3.8', '1.6', '0.2', 'Iris-setosa', '0'],\n",
       "       ['4.6', '3.2', '1.4', '0.2', 'Iris-setosa', '0'],\n",
       "       ['5.3', '3.7', '1.5', '0.2', 'Iris-setosa', '0'],\n",
       "       ['5.0', '3.3', '1.4', '0.2', 'Iris-setosa', '0'],\n",
       "       ['7.0', '3.2', '4.7', '1.4', 'Iris-versicolor', '1'],\n",
       "       ['6.4', '3.2', '4.5', '1.5', 'Iris-versicolor', '1'],\n",
       "       ['6.9', '3.1', '4.9', '1.5', 'Iris-versicolor', '1'],\n",
       "       ['5.5', '2.3', '4.0', '1.3', 'Iris-versicolor', '1'],\n",
       "       ['6.5', '2.8', '4.6', '1.5', 'Iris-versicolor', '1'],\n",
       "       ['5.7', '2.8', '4.5', '1.3', 'Iris-versicolor', '1'],\n",
       "       ['6.3', '3.3', '4.7', '1.6', 'Iris-versicolor', '1'],\n",
       "       ['4.9', '2.4', '3.3', '1.0', 'Iris-versicolor', '1'],\n",
       "       ['6.6', '2.9', '4.6', '1.3', 'Iris-versicolor', '1'],\n",
       "       ['5.2', '2.7', '3.9', '1.4', 'Iris-versicolor', '1'],\n",
       "       ['5.0', '2.0', '3.5', '1.0', 'Iris-versicolor', '1'],\n",
       "       ['5.9', '3.0', '4.2', '1.5', 'Iris-versicolor', '1'],\n",
       "       ['6.0', '2.2', '4.0', '1.0', 'Iris-versicolor', '1'],\n",
       "       ['6.1', '2.9', '4.7', '1.4', 'Iris-versicolor', '1'],\n",
       "       ['5.6', '2.9', '3.6', '1.3', 'Iris-versicolor', '1'],\n",
       "       ['6.7', '3.1', '4.4', '1.4', 'Iris-versicolor', '1'],\n",
       "       ['5.6', '3.0', '4.5', '1.5', 'Iris-versicolor', '1'],\n",
       "       ['5.8', '2.7', '4.1', '1.0', 'Iris-versicolor', '1'],\n",
       "       ['6.2', '2.2', '4.5', '1.5', 'Iris-versicolor', '1'],\n",
       "       ['5.6', '2.5', '3.9', '1.1', 'Iris-versicolor', '1'],\n",
       "       ['5.9', '3.2', '4.8', '1.8', 'Iris-versicolor', '1'],\n",
       "       ['6.1', '2.8', '4.0', '1.3', 'Iris-versicolor', '1'],\n",
       "       ['6.3', '2.5', '4.9', '1.5', 'Iris-versicolor', '1'],\n",
       "       ['6.1', '2.8', '4.7', '1.2', 'Iris-versicolor', '1'],\n",
       "       ['6.4', '2.9', '4.3', '1.3', 'Iris-versicolor', '1'],\n",
       "       ['6.6', '3.0', '4.4', '1.4', 'Iris-versicolor', '1'],\n",
       "       ['6.8', '2.8', '4.8', '1.4', 'Iris-versicolor', '1'],\n",
       "       ['6.7', '3.0', '5.0', '1.7', 'Iris-versicolor', '1'],\n",
       "       ['6.0', '2.9', '4.5', '1.5', 'Iris-versicolor', '1'],\n",
       "       ['5.7', '2.6', '3.5', '1.0', 'Iris-versicolor', '1'],\n",
       "       ['5.5', '2.4', '3.8', '1.1', 'Iris-versicolor', '1'],\n",
       "       ['5.5', '2.4', '3.7', '1.0', 'Iris-versicolor', '1'],\n",
       "       ['5.8', '2.7', '3.9', '1.2', 'Iris-versicolor', '1'],\n",
       "       ['6.0', '2.7', '5.1', '1.6', 'Iris-versicolor', '1'],\n",
       "       ['5.4', '3.0', '4.5', '1.5', 'Iris-versicolor', '1'],\n",
       "       ['6.0', '3.4', '4.5', '1.6', 'Iris-versicolor', '1'],\n",
       "       ['6.7', '3.1', '4.7', '1.5', 'Iris-versicolor', '1'],\n",
       "       ['6.3', '2.3', '4.4', '1.3', 'Iris-versicolor', '1'],\n",
       "       ['5.6', '3.0', '4.1', '1.3', 'Iris-versicolor', '1'],\n",
       "       ['5.5', '2.5', '4.0', '1.3', 'Iris-versicolor', '1'],\n",
       "       ['5.5', '2.6', '4.4', '1.2', 'Iris-versicolor', '1'],\n",
       "       ['6.1', '3.0', '4.6', '1.4', 'Iris-versicolor', '1'],\n",
       "       ['5.8', '2.6', '4.0', '1.2', 'Iris-versicolor', '1'],\n",
       "       ['5.0', '2.3', '3.3', '1.0', 'Iris-versicolor', '1'],\n",
       "       ['5.6', '2.7', '4.2', '1.3', 'Iris-versicolor', '1'],\n",
       "       ['5.7', '3.0', '4.2', '1.2', 'Iris-versicolor', '1'],\n",
       "       ['5.7', '2.9', '4.2', '1.3', 'Iris-versicolor', '1'],\n",
       "       ['6.2', '2.9', '4.3', '1.3', 'Iris-versicolor', '1'],\n",
       "       ['5.1', '2.5', '3.0', '1.1', 'Iris-versicolor', '1'],\n",
       "       ['5.7', '2.8', '4.1', '1.3', 'Iris-versicolor', '1'],\n",
       "       ['6.3', '3.3', '6.0', '2.5', 'Iris-virginica', '2'],\n",
       "       ['5.8', '2.7', '5.1', '1.9', 'Iris-virginica', '2'],\n",
       "       ['7.1', '3.0', '5.9', '2.1', 'Iris-virginica', '2'],\n",
       "       ['6.3', '2.9', '5.6', '1.8', 'Iris-virginica', '2'],\n",
       "       ['6.5', '3.0', '5.8', '2.2', 'Iris-virginica', '2'],\n",
       "       ['7.6', '3.0', '6.6', '2.1', 'Iris-virginica', '2'],\n",
       "       ['4.9', '2.5', '4.5', '1.7', 'Iris-virginica', '2'],\n",
       "       ['7.3', '2.9', '6.3', '1.8', 'Iris-virginica', '2'],\n",
       "       ['6.7', '2.5', '5.8', '1.8', 'Iris-virginica', '2'],\n",
       "       ['7.2', '3.6', '6.1', '2.5', 'Iris-virginica', '2'],\n",
       "       ['6.5', '3.2', '5.1', '2.0', 'Iris-virginica', '2'],\n",
       "       ['6.4', '2.7', '5.3', '1.9', 'Iris-virginica', '2'],\n",
       "       ['6.8', '3.0', '5.5', '2.1', 'Iris-virginica', '2'],\n",
       "       ['5.7', '2.5', '5.0', '2.0', 'Iris-virginica', '2'],\n",
       "       ['5.8', '2.8', '5.1', '2.4', 'Iris-virginica', '2'],\n",
       "       ['6.4', '3.2', '5.3', '2.3', 'Iris-virginica', '2'],\n",
       "       ['6.5', '3.0', '5.5', '1.8', 'Iris-virginica', '2'],\n",
       "       ['7.7', '3.8', '6.7', '2.2', 'Iris-virginica', '2'],\n",
       "       ['7.7', '2.6', '6.9', '2.3', 'Iris-virginica', '2'],\n",
       "       ['6.0', '2.2', '5.0', '1.5', 'Iris-virginica', '2'],\n",
       "       ['6.9', '3.2', '5.7', '2.3', 'Iris-virginica', '2'],\n",
       "       ['5.6', '2.8', '4.9', '2.0', 'Iris-virginica', '2'],\n",
       "       ['7.7', '2.8', '6.7', '2.0', 'Iris-virginica', '2'],\n",
       "       ['6.3', '2.7', '4.9', '1.8', 'Iris-virginica', '2'],\n",
       "       ['6.7', '3.3', '5.7', '2.1', 'Iris-virginica', '2'],\n",
       "       ['7.2', '3.2', '6.0', '1.8', 'Iris-virginica', '2'],\n",
       "       ['6.2', '2.8', '4.8', '1.8', 'Iris-virginica', '2'],\n",
       "       ['6.1', '3.0', '4.9', '1.8', 'Iris-virginica', '2'],\n",
       "       ['6.4', '2.8', '5.6', '2.1', 'Iris-virginica', '2'],\n",
       "       ['7.2', '3.0', '5.8', '1.6', 'Iris-virginica', '2'],\n",
       "       ['7.4', '2.8', '6.1', '1.9', 'Iris-virginica', '2'],\n",
       "       ['7.9', '3.8', '6.4', '2.0', 'Iris-virginica', '2'],\n",
       "       ['6.4', '2.8', '5.6', '2.2', 'Iris-virginica', '2'],\n",
       "       ['6.3', '2.8', '5.1', '1.5', 'Iris-virginica', '2'],\n",
       "       ['6.1', '2.6', '5.6', '1.4', 'Iris-virginica', '2'],\n",
       "       ['7.7', '3.0', '6.1', '2.3', 'Iris-virginica', '2'],\n",
       "       ['6.3', '3.4', '5.6', '2.4', 'Iris-virginica', '2'],\n",
       "       ['6.4', '3.1', '5.5', '1.8', 'Iris-virginica', '2'],\n",
       "       ['6.0', '3.0', '4.8', '1.8', 'Iris-virginica', '2'],\n",
       "       ['6.9', '3.1', '5.4', '2.1', 'Iris-virginica', '2'],\n",
       "       ['6.7', '3.1', '5.6', '2.4', 'Iris-virginica', '2'],\n",
       "       ['6.9', '3.1', '5.1', '2.3', 'Iris-virginica', '2'],\n",
       "       ['5.8', '2.7', '5.1', '1.9', 'Iris-virginica', '2'],\n",
       "       ['6.8', '3.2', '5.9', '2.3', 'Iris-virginica', '2'],\n",
       "       ['6.7', '3.3', '5.7', '2.5', 'Iris-virginica', '2'],\n",
       "       ['6.7', '3.0', '5.2', '2.3', 'Iris-virginica', '2'],\n",
       "       ['6.3', '2.5', '5.0', '1.9', 'Iris-virginica', '2'],\n",
       "       ['6.5', '3.0', '5.2', '2.0', 'Iris-virginica', '2'],\n",
       "       ['6.2', '3.4', '5.4', '2.3', 'Iris-virginica', '2'],\n",
       "       ['5.9', '3.0', '5.1', '1.8', 'Iris-virginica', '2']], dtype='<U15')"
      ]
     },
     "execution_count": 175,
     "metadata": {},
     "output_type": "execute_result"
    }
   ],
   "source": [
    "zz = np.concatenate((d, attr1), axis = 1)\n",
    "zz"
   ]
  },
  {
   "cell_type": "code",
   "execution_count": 172,
   "metadata": {},
   "outputs": [
    {
     "data": {
      "text/plain": [
       "array([3.5, 3. , 3.2, 3.1, 3.6, 3.9, 3.4, 3.4, 2.9, 3.1, 3.7, 3.4, 3. ,\n",
       "       3. , 4. , 4.4, 3.9, 3.5, 3.8, 3.8, 3.4, 3.7, 3.6, 3.3, 3.4, 3. ,\n",
       "       3.4, 3.5, 3.4, 3.2, 3.1, 3.4, 4.1, 4.2, 3.1, 3.2, 3.5, 3.1, 3. ,\n",
       "       3.4, 3.5, 2.3, 3.2, 3.5, 3.8, 3. , 3.8, 3.2, 3.7, 3.3, 3.2, 3.2,\n",
       "       3.1, 2.3, 2.8, 2.8, 3.3, 2.4, 2.9, 2.7, 2. , 3. , 2.2, 2.9, 2.9,\n",
       "       3.1, 3. , 2.7, 2.2, 2.5, 3.2, 2.8, 2.5, 2.8, 2.9, 3. , 2.8, 3. ,\n",
       "       2.9, 2.6, 2.4, 2.4, 2.7, 2.7, 3. , 3.4, 3.1, 2.3, 3. , 2.5, 2.6,\n",
       "       3. , 2.6, 2.3, 2.7, 3. , 2.9, 2.9, 2.5, 2.8, 3.3, 2.7, 3. , 2.9,\n",
       "       3. , 3. , 2.5, 2.9, 2.5, 3.6, 3.2, 2.7, 3. , 2.5, 2.8, 3.2, 3. ,\n",
       "       3.8, 2.6, 2.2, 3.2, 2.8, 2.8, 2.7, 3.3, 3.2, 2.8, 3. , 2.8, 3. ,\n",
       "       2.8, 3.8, 2.8, 2.8, 2.6, 3. , 3.4, 3.1, 3. , 3.1, 3.1, 3.1, 2.7,\n",
       "       3.2, 3.3, 3. , 2.5, 3. , 3.4, 3. ])"
      ]
     },
     "execution_count": 172,
     "metadata": {},
     "output_type": "execute_result"
    }
   ],
   "source": [
    "num_col = zz[:, 1].astype('float')\n",
    "num_col"
   ]
  },
  {
   "cell_type": "code",
   "execution_count": 173,
   "metadata": {},
   "outputs": [
    {
     "data": {
      "text/plain": [
       "array(['0', '0', '0', '0', '0', '0', '0', '0', '0', '0', '0', '0', '0',\n",
       "       '0', '0', '0', '0', '0', '0', '0', '0', '0', '0', '0', '0', '0',\n",
       "       '0', '0', '0', '0', '0', '0', '0', '0', '0', '0', '0', '0', '0',\n",
       "       '0', '0', '0', '0', '0', '0', '0', '0', '0', '0', '0', '1', '1',\n",
       "       '1', '1', '1', '1', '1', '1', '1', '1', '1', '1', '1', '1', '1',\n",
       "       '1', '1', '1', '1', '1', '1', '1', '1', '1', '1', '1', '1', '1',\n",
       "       '1', '1', '1', '1', '1', '1', '1', '1', '1', '1', '1', '1', '1',\n",
       "       '1', '1', '1', '1', '1', '1', '1', '1', '1', '2', '2', '2', '2',\n",
       "       '2', '2', '2', '2', '2', '2', '2', '2', '2', '2', '2', '2', '2',\n",
       "       '2', '2', '2', '2', '2', '2', '2', '2', '2', '2', '2', '2', '2',\n",
       "       '2', '2', '2', '2', '2', '2', '2', '2', '2', '2', '2', '2', '2',\n",
       "       '2', '2', '2', '2', '2', '2', '2'], dtype='<U15')"
      ]
     },
     "execution_count": 173,
     "metadata": {},
     "output_type": "execute_result"
    }
   ],
   "source": [
    "grp_col = zz[:, 5]\n",
    "grp_col"
   ]
  },
  {
   "cell_type": "code",
   "execution_count": 187,
   "metadata": {},
   "outputs": [],
   "source": [
    "res = []\n",
    "for val in np.unique(grp_col):\n",
    "    res.append( [val, num_col[ grp_col == val].mean(),  num_col[grp_col == val].min(), num_col[grp_col == val].std(),\n",
    "    num_col[grp_col == val].max(), np.median(num_col[grp_col == val]), np.percentile((num_col[grp_col == val]),25),\n",
    "    np.percentile((num_col[grp_col == val]),75)])"
   ]
  },
  {
   "cell_type": "code",
   "execution_count": 188,
   "metadata": {},
   "outputs": [
    {
     "data": {
      "text/plain": [
       "[['0', 3.418, 2.3, 0.37719490982779713, 4.4, 3.4, 3.125, 3.6750000000000003],\n",
       " ['1', 2.7700000000000005, 2.0, 0.31064449134018135, 3.4, 2.8, 2.525, 3.0],\n",
       " ['2', 2.974, 2.2, 0.3192553836664309, 3.8, 3.0, 2.8, 3.1750000000000003]]"
      ]
     },
     "execution_count": 188,
     "metadata": {},
     "output_type": "execute_result"
    }
   ],
   "source": [
    "res"
   ]
  },
  {
   "cell_type": "code",
   "execution_count": 196,
   "metadata": {},
   "outputs": [
    {
     "name": "stdout",
     "output_type": "stream",
     "text": [
      "0\n"
     ]
    },
    {
     "data": {
      "image/png": "[encoded data removed]",
      "text/plain": [
       "<Figure size 432x288 with 1 Axes>"
      ]
     },
     "metadata": {
      "needs_background": "light"
     },
     "output_type": "display_data"
    },
    {
     "name": "stdout",
     "output_type": "stream",
     "text": [
      "1\n"
     ]
    },
    {
     "data": {
      "image/png": "[encoded data removed]",
      "text/plain": [
       "<Figure size 432x288 with 1 Axes>"
      ]
     },
     "metadata": {
      "needs_background": "light"
     },
     "output_type": "display_data"
    },
    {
     "name": "stdout",
     "output_type": "stream",
     "text": [
      "2\n"
     ]
    },
    {
     "data": {
      "image/png": "[encoded data removed]",
      "text/plain": [
       "<Figure size 432x288 with 1 Axes>"
      ]
     },
     "metadata": {
      "needs_background": "light"
     },
     "output_type": "display_data"
    }
   ],
   "source": [
    "\n",
    "for val in np.unique(grp_col):\n",
    "#     plt.hist([val, num_col[ grp_col == val]])\n",
    "    plt.hist([num_col[ grp_col == val]])\n",
    "    print(val)\n",
    "    plt.show()"
   ]
  },
  {
   "cell_type": "code",
   "execution_count": null,
   "metadata": {},
   "outputs": [],
   "source": []
  }
 ],
 "metadata": {
  "kernelspec": {
   "display_name": "Python 3",
   "language": "python",
   "name": "python3"
  },
  "language_info": {
   "codemirror_mode": {
    "name": "ipython",
    "version": 3
   },
   "file_extension": ".py",
   "mimetype": "text/x-python",
   "name": "python",
   "nbconvert_exporter": "python",
   "pygments_lexer": "ipython3",
   "version": "3.7.4"
  }
 },
 "nbformat": 4,
 "nbformat_minor": 2
}
